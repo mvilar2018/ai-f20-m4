{
 "cells": [
  {
   "cell_type": "markdown",
   "metadata": {},
   "source": [
    "Here you have a collection of guided exercises for the first class on Python. <br>\n",
    "The exercises are divided by topic, following the topics reviewed during the theory session, and for each topic you have some mandatory exercises, and other optional exercises, which you are invited to do if you still have time after the mandatory exercises. <br>\n",
    "\n",
    "Remember that you have 5 hours to solve these exercises, after which we will review the most interesting exercises together. If you don't finish all the exercises, you can work on them tonightor tomorrow. \n",
    "\n",
    "At the end of the class, we will upload the code with the solutions of the exercises so that you can review them again if needed. If you still have not finished some exercises, try to do them first by yourself, before taking a look at the solutions: you are doing these exercises for yourself, so it is always the best to do them your way first, as it is the fastest way to learn!"
   ]
  },
  {
   "cell_type": "markdown",
   "metadata": {},
   "source": [
    "**Exercise 4.1 (🌶️🌶️):** Define a function that receives a string parameter, and returns an integer indicating the count for all the letters of the alphabet that there are in the string. The expected output format is in a **dictionary** with the relevant keys and values. The capital version of a lower case letter is considered to be the same letter.\n",
    "\n",
    "This should sound quite familiar, try to do it without looking at your old code ;)\n",
    "\n",
    "**What is the challenge?**: Don't code 27 times the same line of code, learn how to do things that scale well."
   ]
  },
  {
   "cell_type": "code",
   "execution_count": 4,
   "metadata": {},
   "outputs": [
    {
     "data": {
      "text/plain": [
       "{'a': 2,\n",
       " 'h': 4,\n",
       " 'e': 12,\n",
       " 'r': 5,\n",
       " 'i': 4,\n",
       " 's': 9,\n",
       " 'o': 9,\n",
       " 'm': 5,\n",
       " 't': 10,\n",
       " 'f': 1,\n",
       " 'x': 1,\n",
       " 'p': 1,\n",
       " 'l': 3,\n",
       " 'n': 4,\n",
       " 'g': 1,\n",
       " 'c': 1,\n",
       " 'd': 2,\n",
       " 'w': 2,\n",
       " 'y': 1,\n",
       " 'b': 1}"
      ]
     },
     "execution_count": 4,
     "metadata": {},
     "output_type": "execute_result"
    }
   ],
   "source": [
    "# Joby's solution was the most optimal --> Anything with similar outputs given the same test string should work \n",
    "\n",
    "#imported re to help string maninpulation\n",
    "import re\n",
    "\n",
    "exmaple_String = \"Here is some sort of example string to test the code with, with some random!!! ?? : none letter sysmbols 09\"\n",
    "\n",
    "def tidyString(s):\n",
    "    #make the string all lower case and remove all the none letter  \n",
    "    l = s.lower()\n",
    "    str2 = re.sub(\"[^A-Za-z]\", \"\", l)\n",
    "    #count the letters and add to dictionary\n",
    "    return letterCount(str2)\n",
    "    \n",
    "def letterCount(s): \n",
    "    d = {'a':0}\n",
    "    for c in s:\n",
    "        if c in d:\n",
    "            d[c] = d[c] + 1\n",
    "        else:\n",
    "            d[c] = 1\n",
    "    return d\n",
    "    \n",
    "tidyString(exmaple_String)"
   ]
  },
  {
   "cell_type": "markdown",
   "metadata": {},
   "source": [
    "**Exercise 5.6 (🌶️🌶️):** A prime number is a positive integer that is dividable by exactly two different numbers, namely 1 and itself. The lowest (and only even) prime number is 2. The first 10 prime numbers are 2, 3, 5, 7, 11, 13, 17, 19, 23, and 29. Write a function that returns a **list off all prime numbers** below a given number.\n",
    "\n",
    "Hint: In a loop where you test the possible dividers of the number, you can conclude that the number is not prime as soon as you encounter a number other than 1 or the number itself that divides it. However, you can *only* conclude that it actually *is* prime after you have tested all possible dividers.\n",
    "\n",
    "**What is the challenge here? You have to try to optimize your code and try to make it work for the highest prime number you can encounter before you run out of memory. For low numbers you should know how to do it already**"
   ]
  },
  {
   "cell_type": "markdown",
   "metadata": {},
   "source": [
    "**Exercise 5.7 (🌶️🌶️):** Write a function that prints all integers between the parameters `a` and `b` that can be written as the sum of two squares. Produce output in the form of `z = x**2 + y**2`, e.g., `58 = 3**2 + 7**2`. If a number occurs on the list with multiple *different* ways of writing it as the sum of two squares, that is acceptable. "
   ]
  },
  {
   "cell_type": "code",
   "execution_count": 41,
   "metadata": {},
   "outputs": [
    {
     "name": "stdout",
     "output_type": "stream",
     "text": [
      "2 3 5 7 11 13 17 19 23 29 31 37 41 43 47 53 59 61 67 71 73 79 83 89 97 101 103 107 109 113 127 131 137 139 149 151 157 163 167 173 179 181 191 193 197 199 211 223 227 229 233 239 241 251 257 263 269 271 277 281 283 293 307 311 313 317 331 337 347 349 353 359 367 373 379 383 389 397 401 409 419 421 431 433 439 443 449 457 461 463 467 479 487 491 499 503 509 521 523 541 547 557 563 569 571 577 587 593 599 601 607 613 617 619 631 641 643 647 653 659 661 673 677 683 691 701 709 719 727 733 739 743 751 757 761 769 773 787 797 809 811 821 823 827 829 839 853 857 859 863 877 881 883 887 907 911 919 929 937 941 947 953 967 971 977 983 991 997 1009 1013 1019 1021 1031 1033 1039 1049 1051 1061 1063 1069 1087 1091 1093 1097 1103 1109 1117 1123 1129 1151 1153 1163 1171 1181 1187 1193 1201 1213 1217 1223 1229 1231 1237 1249 1259 1277 1279 1283 1289 1291 1297 1301 1303 1307 1319 1321 1327 1361 1367 1373 1381 1399 1409 1423 1427 1429 1433 1439 1447 1451 1453 1459 1471 1481 1483 1487 1489 1493 1499 1511 1523 1531 1543 1549 1553 1559 1567 1571 1579 1583 1597 1601 1607 1609 1613 1619 1621 1627 1637 1657 1663 1667 1669 1693 1697 1699 1709 1721 1723 1733 1741 1747 1753 1759 1777 1783 1787 1789 1801 1811 1823 1831 1847 1861 1867 1871 1873 1877 1879 1889 1901 1907 1913 1931 1933 1949 1951 1973 1979 1987 1993 1997 1999 2003 2011 2017 "
     ]
    }
   ],
   "source": [
    "def isPrime(n): \n",
    "      \n",
    "    # Corner case \n",
    "    if n <= 1 : \n",
    "        return False\n",
    "  \n",
    "    # check from 2 to n//2+1 \n",
    "    for i in range(2, n//2+1): \n",
    "        if n % i == 0: \n",
    "            return False\n",
    "  \n",
    "    return True\n",
    "  \n",
    "# Function to print primes \n",
    "def allPrimes(n): \n",
    "    primes = []\n",
    "    for i in range(2, n + 1): \n",
    "        if isPrime(i): \n",
    "            #primes.append(i)\n",
    "            print(i, end = \" \") \n",
    "    #return primes\n",
    "    # much more efficient to print that to have to save in a list...        \n",
    "allPrimes(2020)"
   ]
  },
  {
   "cell_type": "code",
   "execution_count": 42,
   "metadata": {},
   "outputs": [
    {
     "name": "stdout",
     "output_type": "stream",
     "text": [
      "2 = 1**2 + 1**2\n",
      "4 = 0**2 + 2**2\n",
      "4 = 2**2 + 0**2\n",
      "5 = 1**2 + 2**2\n",
      "5 = 2**2 + 1**2\n",
      "8 = 2**2 + 2**2\n",
      "9 = 0**2 + 3**2\n",
      "9 = 3**2 + 0**2\n"
     ]
    }
   ],
   "source": [
    "#Your Code Here\n",
    "def sum_squares(a,b):\n",
    "    \"\"\"\n",
    "    2 = 1**2 + 1**2\n",
    "    4 = 0**2 + 2**2\n",
    "    4 = 2**2 + 0**2\n",
    "    5 = 1**2 + 2**2\n",
    "    5 = 2**2 + 1**2\n",
    "    8 = 2**2 + 2**2\n",
    "    9 = 0**2 + 3**2\n",
    "    9 = 3**2 + 0**2\n",
    "    \"\"\"\n",
    "    for z in range(a,b): \n",
    "        for x in range(b):\n",
    "            for y in range(b):\n",
    "                if (x**2 + y**2) == z:\n",
    "                    print(str(z)+\" = \"+str(x)+\"**2 + \"+str(y)+\"**2\")\n",
    "\n",
    "sum_squares(2, 10)"
   ]
  },
  {
   "cell_type": "code",
   "execution_count": 43,
   "metadata": {},
   "outputs": [
    {
     "name": "stdout",
     "output_type": "stream",
     "text": [
      "Checking if 2 is prime\n",
      "Checking if 3 is prime\n",
      "Checking if 4 is prime\n",
      "Checking if 5 is prime\n",
      "Checking if 6 is prime\n",
      "Checking if 7 is prime\n",
      "Checking if 8 is prime\n",
      "Checking if 9 is prime\n",
      "This is prime 9\n"
     ]
    },
    {
     "data": {
      "text/plain": [
       "{2}"
      ]
     },
     "execution_count": 43,
     "metadata": {},
     "output_type": "execute_result"
    }
   ],
   "source": [
    "import math\n",
    "\n",
    "#Your Code Here\n",
    "def primeNum(n):\n",
    "    prime_list = []\n",
    "    not_prime = []\n",
    "    for num in range(2,n):\n",
    "        print(f\"Checking if {num} is prime\")\n",
    "        for x in range(2,int(math.sqrt(num))):\n",
    "            if num % x == 0:\n",
    "                print('This is not a prime', num)\n",
    "                not_prime_list.append(x)\n",
    "                break\n",
    "            else:\n",
    "                print('This is prime', num)\n",
    "                if num not in prime_list:\n",
    "                    prime_list.append(x)\n",
    "    return set(prime_list)\n",
    "\n",
    "primeNum(10)"
   ]
  },
  {
   "cell_type": "code",
   "execution_count": null,
   "metadata": {},
   "outputs": [],
   "source": []
  }
 ],
 "metadata": {
  "kernelspec": {
   "display_name": "Python 3",
   "language": "python",
   "name": "python3"
  },
  "language_info": {
   "codemirror_mode": {
    "name": "ipython",
    "version": 3
   },
   "file_extension": ".py",
   "mimetype": "text/x-python",
   "name": "python",
   "nbconvert_exporter": "python",
   "pygments_lexer": "ipython3",
   "version": "3.7.4"
  }
 },
 "nbformat": 4,
 "nbformat_minor": 4
}
