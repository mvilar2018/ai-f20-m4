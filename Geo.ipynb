{
 "cells": [
  {
   "cell_type": "code",
   "execution_count": 1,
   "metadata": {},
   "outputs": [
    {
     "ename": "ModuleNotFoundError",
     "evalue": "No module named 'mpl_toolkits.basemap'",
     "output_type": "error",
     "traceback": [
      "\u001b[1;31m---------------------------------------------------------------------------\u001b[0m",
      "\u001b[1;31mModuleNotFoundError\u001b[0m                       Traceback (most recent call last)",
      "\u001b[1;32m<ipython-input-1-eb6384653796>\u001b[0m in \u001b[0;36m<module>\u001b[1;34m\u001b[0m\n\u001b[0;32m      5\u001b[0m \u001b[1;33m\u001b[0m\u001b[0m\n\u001b[0;32m      6\u001b[0m \u001b[1;32mfrom\u001b[0m \u001b[0mgeopy\u001b[0m\u001b[1;33m.\u001b[0m\u001b[0mgeocoders\u001b[0m \u001b[1;32mimport\u001b[0m \u001b[0mNominatim\u001b[0m\u001b[1;33m\u001b[0m\u001b[1;33m\u001b[0m\u001b[0m\n\u001b[1;32m----> 7\u001b[1;33m \u001b[1;32mfrom\u001b[0m \u001b[0mmpl_toolkits\u001b[0m\u001b[1;33m.\u001b[0m\u001b[0mbasemap\u001b[0m \u001b[1;32mimport\u001b[0m \u001b[0mBasemap\u001b[0m\u001b[1;33m\u001b[0m\u001b[1;33m\u001b[0m\u001b[0m\n\u001b[0m\u001b[0;32m      8\u001b[0m \u001b[1;33m\u001b[0m\u001b[0m\n\u001b[0;32m      9\u001b[0m \u001b[1;32mfrom\u001b[0m \u001b[0mitertools\u001b[0m \u001b[1;32mimport\u001b[0m \u001b[0mproduct\u001b[0m\u001b[1;33m\u001b[0m\u001b[1;33m\u001b[0m\u001b[0m\n",
      "\u001b[1;31mModuleNotFoundError\u001b[0m: No module named 'mpl_toolkits.basemap'"
     ]
    }
   ],
   "source": [
    "import pandas as pd\n",
    "import numpy as np\n",
    "import matplotlib.pyplot as plt\n",
    "import seaborn as sb\n",
    "\n",
    "from geopy.geocoders import Nominatim\n",
    "from mpl_toolkits.basemap import Basemap\n",
    "\n",
    "from itertools import product\n",
    "from collections import Counter\n",
    "from sklearn.cluster import KMeans\n",
    "\n",
    "DATA_ENGLISH = True\n",
    "\n",
    "sales = pd.read_csv(\"sales_train.csv\")\n",
    "test = pd.read_csv(\"test.csv\", index_col=\"ID\")\n",
    "sub = pd.read_csv(\"sample_submission.csv\", index_col=\"ID\")\n",
    "\n",
    "if DATA_ENGLISH:\n",
    "    DATA_ENGLISH_PATH = \"data eng/\"\n",
    "    shops = pd.read_csv(DATA_ENGLISH_PATH + \"shops.csv\")\n",
    "    items = pd.read_csv(DATA_ENGLISH_PATH + \"items.csv\")\n",
    "    cat = pd.read_csv(DATA_ENGLISH_PATH + \"item_categories.csv\")\n",
    "    \n",
    "shops['shop_name'] = shops['shop_name'].str.lower()\n",
    "\n",
    "shops['shop_city'] = shops['shop_name'].str.split.str[0]\n",
    "shops.loc[shops['shop_id'].isin([9,12,55]), 'shop_city'] = 'No-city'\n",
    "\n",
    "cities = pd.DataFrame(shops['shop_city'].unique(), columns=[\"city\"])\n",
    "shops['shop_city'].unique()\n",
    "\n",
    "def add_lat_lon(df):\n",
    "    city = df[\"city\"]\n",
    "    country = \"Ru\"\n",
    "\n",
    "    geolocator = Nominatim(user_agent=\"my_user_agent\")\n",
    "    loc = geolocator.geocode(city+','+ country)\n",
    "    \n",
    "    if loc != None:\n",
    "        df['latitude'] = loc.latitude\n",
    "        df['longitude'] = loc.longitude\n",
    "        \n",
    "    return df\n",
    "\n",
    "cities = cities.apply(add_lat_lon, axis= 1)\n",
    "\n"
   ]
  },
  {
   "cell_type": "code",
   "execution_count": null,
   "metadata": {},
   "outputs": [],
   "source": []
  }
 ],
 "metadata": {
  "kernelspec": {
   "display_name": "Python 3",
   "language": "python",
   "name": "python3"
  },
  "language_info": {
   "codemirror_mode": {
    "name": "ipython",
    "version": 3
   },
   "file_extension": ".py",
   "mimetype": "text/x-python",
   "name": "python",
   "nbconvert_exporter": "python",
   "pygments_lexer": "ipython3",
   "version": "3.8.5"
  }
 },
 "nbformat": 4,
 "nbformat_minor": 4
}
